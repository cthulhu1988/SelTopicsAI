{
 "cells": [
  {
   "cell_type": "code",
   "execution_count": 18,
   "metadata": {},
   "outputs": [],
   "source": [
    "import base64#Define your keys from the developer portal\n",
    "import json\n",
    "### SECRET KEYS\n",
    "client_key = 'TTbRIgdtpJUcQUSVZe19IurDc'\n",
    "client_secret = 'hf54y1TpkhpxkhLQBMmJvbTMfFMMUfGbgYZw5xbswIad3ZWzer'#Reformat the keys and encode them\n",
    "key_secret = '{}:{}'.format(client_key, client_secret).encode('ascii')\n",
    "\n",
    "# Transform from bytes to bytes that can be printed\n",
    "b64_encoded_key = base64.b64encode(key_secret)\n",
    "#Transform from bytes back into Unicode\n",
    "b64_encoded_key = b64_encoded_key.decode('ascii')"
   ]
  },
  {
   "cell_type": "code",
   "execution_count": 25,
   "metadata": {},
   "outputs": [],
   "source": [
    "import requests\n",
    "base_url = 'https://api.twitter.com/'\n",
    "auth_url = '{}oauth2/token'.format(base_url)\n",
    "\n",
    "auth_headers = {\n",
    "    'Authorization': 'Basic {}'.format(b64_encoded_key),\n",
    "    'Content-Type': 'application/x-www-form-urlencoded;charset=UTF-8'}\n",
    "\n",
    "auth_data = {'grant_type': 'client_credentials'}\n",
    "\n",
    "auth_resp = requests.post(auth_url, headers=auth_headers, data=auth_data)"
   ]
  },
  {
   "cell_type": "code",
   "execution_count": 27,
   "metadata": {},
   "outputs": [],
   "source": [
    "access_token = auth_resp.json()['access_token']"
   ]
  },
  {
   "cell_type": "code",
   "execution_count": 29,
   "metadata": {},
   "outputs": [],
   "source": [
    "search_headers = {\n",
    "    'Authorization': 'Bearer {}'.format(access_token)    \n",
    "}\n",
    "search_params = {\n",
    "    'q': 'NASA',\n",
    "    'result_type': 'recent',\n",
    "    'count': 2\n",
    "}\n",
    "search_url = '{}1.1/search/tweets.json'.format(base_url)\n",
    "\n",
    "search_resp = requests.get(search_url, headers=search_headers, params=search_params)"
   ]
  },
  {
   "cell_type": "code",
   "execution_count": 30,
   "metadata": {},
   "outputs": [
    {
     "name": "stdout",
     "output_type": "stream",
     "text": [
      "[{'created_at': 'Wed Mar 11 14:07:32 +0000 2020', 'id': 1237741953279647744, 'id_str': '1237741953279647744', 'text': 'sana nasa spotify na sila', 'truncated': False, 'entities': {'hashtags': [], 'symbols': [], 'user_mentions': [], 'urls': []}, 'metadata': {'iso_language_code': 'tl', 'result_type': 'recent'}, 'source': '<a href=\"http://twitter.com/download/android\" rel=\"nofollow\">Twitter for Android</a>', 'in_reply_to_status_id': None, 'in_reply_to_status_id_str': None, 'in_reply_to_user_id': None, 'in_reply_to_user_id_str': None, 'in_reply_to_screen_name': None, 'user': {'id': 2909553985, 'id_str': '2909553985', 'name': '𝓱𝓪𝓻𝓻𝔂', 'screen_name': 'harryvllnv', 'location': 'nasa 11-01 ', 'description': 'unbothered', 'url': None, 'entities': {'description': {'urls': []}}, 'protected': False, 'followers_count': 252, 'friends_count': 162, 'listed_count': 0, 'created_at': 'Tue Nov 25 01:50:18 +0000 2014', 'favourites_count': 3889, 'utc_offset': None, 'time_zone': None, 'geo_enabled': False, 'verified': False, 'statuses_count': 6667, 'lang': None, 'contributors_enabled': False, 'is_translator': False, 'is_translation_enabled': True, 'profile_background_color': 'C0DEED', 'profile_background_image_url': 'http://abs.twimg.com/images/themes/theme1/bg.png', 'profile_background_image_url_https': 'https://abs.twimg.com/images/themes/theme1/bg.png', 'profile_background_tile': True, 'profile_image_url': 'http://pbs.twimg.com/profile_images/1233723108776824833/qLuTf1bN_normal.jpg', 'profile_image_url_https': 'https://pbs.twimg.com/profile_images/1233723108776824833/qLuTf1bN_normal.jpg', 'profile_banner_url': 'https://pbs.twimg.com/profile_banners/2909553985/1581809804', 'profile_link_color': '91D2FA', 'profile_sidebar_border_color': 'C0DEED', 'profile_sidebar_fill_color': 'DDEEF6', 'profile_text_color': '333333', 'profile_use_background_image': True, 'has_extended_profile': False, 'default_profile': False, 'default_profile_image': False, 'following': None, 'follow_request_sent': None, 'notifications': None, 'translator_type': 'none'}, 'geo': None, 'coordinates': None, 'place': None, 'contributors': None, 'is_quote_status': False, 'retweet_count': 0, 'favorite_count': 0, 'favorited': False, 'retweeted': False, 'lang': 'tl'}, {'created_at': 'Wed Mar 11 14:07:32 +0000 2020', 'id': 1237741952143167491, 'id_str': '1237741952143167491', 'text': \"@ReanneTheAznKid I also agree with you, sana naisip niya yung ganong impact lalo na't hindi naman siya basta basta.… https://t.co/zRXIMR85Dq\", 'truncated': True, 'entities': {'hashtags': [], 'symbols': [], 'user_mentions': [{'screen_name': 'ReanneTheAznKid', 'name': 'Adaptive-', 'id': 221848275, 'id_str': '221848275', 'indices': [0, 16]}], 'urls': [{'url': 'https://t.co/zRXIMR85Dq', 'expanded_url': 'https://twitter.com/i/web/status/1237741952143167491', 'display_url': 'twitter.com/i/web/status/1…', 'indices': [117, 140]}]}, 'metadata': {'iso_language_code': 'tl', 'result_type': 'recent'}, 'source': '<a href=\"http://twitter.com/download/android\" rel=\"nofollow\">Twitter for Android</a>', 'in_reply_to_status_id': 1237739880823701504, 'in_reply_to_status_id_str': '1237739880823701504', 'in_reply_to_user_id': 221848275, 'in_reply_to_user_id_str': '221848275', 'in_reply_to_screen_name': 'ReanneTheAznKid', 'user': {'id': 53648916, 'id_str': '53648916', 'name': 'MKD', 'screen_name': 'TheMakkiavelli', 'location': 'IE X MNL', 'description': 'Writer • Multi-Platform Producer •\\nStartUp Entrepreneur.', 'url': 'https://t.co/Uo1JT0yl5m', 'entities': {'url': {'urls': [{'url': 'https://t.co/Uo1JT0yl5m', 'expanded_url': 'http://www.instagram.com/themakkiavelli', 'display_url': 'instagram.com/themakkiavelli', 'indices': [0, 23]}]}, 'description': {'urls': []}}, 'protected': False, 'followers_count': 319, 'friends_count': 833, 'listed_count': 12, 'created_at': 'Sat Jul 04 11:13:49 +0000 2009', 'favourites_count': 2699, 'utc_offset': None, 'time_zone': None, 'geo_enabled': True, 'verified': False, 'statuses_count': 12767, 'lang': None, 'contributors_enabled': False, 'is_translator': False, 'is_translation_enabled': False, 'profile_background_color': '000000', 'profile_background_image_url': 'http://abs.twimg.com/images/themes/theme14/bg.gif', 'profile_background_image_url_https': 'https://abs.twimg.com/images/themes/theme14/bg.gif', 'profile_background_tile': False, 'profile_image_url': 'http://pbs.twimg.com/profile_images/1016411326472597504/vR1Hy3ax_normal.jpg', 'profile_image_url_https': 'https://pbs.twimg.com/profile_images/1016411326472597504/vR1Hy3ax_normal.jpg', 'profile_banner_url': 'https://pbs.twimg.com/profile_banners/53648916/1581687908', 'profile_link_color': '0FB39F', 'profile_sidebar_border_color': '000000', 'profile_sidebar_fill_color': '060A00', 'profile_text_color': '618238', 'profile_use_background_image': True, 'has_extended_profile': True, 'default_profile': False, 'default_profile_image': False, 'following': None, 'follow_request_sent': None, 'notifications': None, 'translator_type': 'none'}, 'geo': None, 'coordinates': None, 'place': None, 'contributors': None, 'is_quote_status': False, 'retweet_count': 0, 'favorite_count': 0, 'favorited': False, 'retweeted': False, 'lang': 'tl'}]\n"
     ]
    }
   ],
   "source": [
    "# Get the data from the request\n",
    "Data = json.loads( search_resp.content )# Print out the data!\n",
    "print(Data['statuses'])"
   ]
  },
  {
   "cell_type": "code",
   "execution_count": null,
   "metadata": {},
   "outputs": [],
   "source": []
  },
  {
   "cell_type": "code",
   "execution_count": null,
   "metadata": {},
   "outputs": [],
   "source": []
  }
 ],
 "metadata": {
  "kernelspec": {
   "display_name": "Python 3",
   "language": "python",
   "name": "python3"
  },
  "language_info": {
   "codemirror_mode": {
    "name": "ipython",
    "version": 3
   },
   "file_extension": ".py",
   "mimetype": "text/x-python",
   "name": "python",
   "nbconvert_exporter": "python",
   "pygments_lexer": "ipython3",
   "version": "3.7.3"
  }
 },
 "nbformat": 4,
 "nbformat_minor": 4
}
