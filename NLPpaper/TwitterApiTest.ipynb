{
 "cells": [
  {
   "cell_type": "code",
   "execution_count": 1,
   "metadata": {},
   "outputs": [],
   "source": [
    "import json\n",
    "import requests\n",
    "from TwitterAPI import TwitterAPI"
   ]
  },
  {
   "cell_type": "code",
   "execution_count": 20,
   "metadata": {},
   "outputs": [
    {
     "name": "stdout",
     "output_type": "stream",
     "text": [
      "Greenpoint\n",
      "\n",
      "Greenpoint\n",
      "\n",
      "Brooklyn, New York\n",
      "\n",
      "brooklyn\n",
      "\n",
      "Greenpoint\n",
      "\n",
      "greenpoint\n",
      "\n",
      "Greenpoint\n",
      "\n",
      "greenpoint\n",
      "\n",
      "brooklyn\n",
      "\n",
      "11222\n",
      "\n",
      "11222\n",
      "\n",
      "Greenpoint\n",
      "\n",
      "earth or somewhere close to it\n",
      "\n"
     ]
    }
   ],
   "source": [
    "GEOCODE = '40.730610,-73.935242,1mi'\n",
    "api = TwitterAPI(\"TTbRIgdtpJUcQUSVZe19IurDc\", \"hf54y1TpkhpxkhLQBMmJvbTMfFMMUfGbgYZw5xbswIad3ZWzer\", \"372330040-UqVzc2sUKDFz8ZDUowAufuyAv5uaxmbvGnXTyhj3\", \"6vArqK40I23JURV8Uevek7PNvBqCfY0nhlmVJ2hsQ1zEm\")\n",
    "#r = api.request('search/tweets', {'q':SEARCH_TERM, 'geocode':GEOCODE})\n",
    "r = api.request('search/tweets', {'geocode':GEOCODE})\n",
    "for item in r:\n",
    "    print(item['user']['location'])\n",
    "    print()\n",
    "#     print(item['text'] if 'text' in item else item)"
   ]
  },
  {
   "cell_type": "code",
   "execution_count": null,
   "metadata": {},
   "outputs": [],
   "source": []
  },
  {
   "cell_type": "code",
   "execution_count": null,
   "metadata": {},
   "outputs": [],
   "source": []
  }
 ],
 "metadata": {
  "kernelspec": {
   "display_name": "Python 3",
   "language": "python",
   "name": "python3"
  },
  "language_info": {
   "codemirror_mode": {
    "name": "ipython",
    "version": 3
   },
   "file_extension": ".py",
   "mimetype": "text/x-python",
   "name": "python",
   "nbconvert_exporter": "python",
   "pygments_lexer": "ipython3",
   "version": "3.7.3"
  }
 },
 "nbformat": 4,
 "nbformat_minor": 2
}
