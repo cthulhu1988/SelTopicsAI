{
 "cells": [
  {
   "cell_type": "code",
   "execution_count": 2,
   "metadata": {},
   "outputs": [],
   "source": [
    "#import math\n",
    "import numpy as np\n",
    "import random\n",
    "from sklearn.linear_model import LogisticRegression\n",
    "from sklearn.metrics import confusion_matrix\n",
    "from sklearn.metrics import accuracy_score\n",
    "from sklearn.metrics import classification_report\n",
    "\n",
    "from nltk.tokenize import sent_tokenize\n",
    "from nltk.tokenize import word_tokenize\n",
    "from nltk import pos_tag\n",
    "\n",
    "np.set_printoptions(linewidth=400)   # optional: widens column of numpy array display"
   ]
  },
  {
   "cell_type": "code",
   "execution_count": 3,
   "metadata": {},
   "outputs": [],
   "source": [
    "# HOW-TO only: uses numbers (i.e. feature values), to demonstrate a way (not the only way) to load X, y, Xtest, and ytest\n",
    "# You will not do this (load number from a file).  You'll get your X, y, Xtest, and ytest values by extracting features from the review\n",
    "X = []\n",
    "y = []\n",
    "with open(\"demo-train.txt\", 'r', encoding='utf8') as f:\n",
    "    for line in f:\n",
    "        if line != \"\":\n",
    "            vals = line.split()\n",
    "            X.append([float(val) for val in vals[:-1]])\n",
    "            y.append(int(vals[-1]))\n",
    "            #print(X)\n",
    "        \n",
    "Xtest = []\n",
    "ytest = []\n",
    "with open(\"demo-test.txt\", 'r', encoding='utf8') as f:\n",
    "    Xtest = []\n",
    "    ytest = []\n",
    "    for line in f:\n",
    "        if line != \"\":\n",
    "            vals = line.split()\n",
    "            Xtest.append([float(val) for val in vals[:-1]])\n",
    "            ytest.append(int(vals[-1]))\n",
    "        \n"
   ]
  },
  {
   "cell_type": "code",
   "execution_count": null,
   "metadata": {},
   "outputs": [],
   "source": []
  },
  {
   "cell_type": "code",
   "execution_count": 9,
   "metadata": {},
   "outputs": [
    {
     "name": "stdout",
     "output_type": "stream",
     "text": [
      "[[2.         3.         3.         3.         4.40671925]\n",
      " [2.         1.         3.         0.         4.63472899]\n",
      " [6.         2.         3.         0.         4.92725369]\n",
      " ...\n",
      " [4.         3.         2.         0.         4.54329478]\n",
      " [2.         1.         2.         0.         4.39444915]\n",
      " [5.         1.         0.         0.         3.8918203 ]]\n"
     ]
    }
   ],
   "source": [
    "        \n",
    "X = np.array(X)          # the 4 lines are optional - It runs fine with Python lists.  For large dataset numpy arrays are better\n",
    "y = np.array(y)\n",
    "print(X)\n",
    "Xtest = np.array(Xtest)\n",
    "ytest = np.array(ytest)"
   ]
  },
  {
   "cell_type": "code",
   "execution_count": 5,
   "metadata": {},
   "outputs": [
    {
     "data": {
      "text/plain": [
       "(1276, 5)"
      ]
     },
     "execution_count": 5,
     "metadata": {},
     "output_type": "execute_result"
    }
   ],
   "source": [
    "X.shape"
   ]
  },
  {
   "cell_type": "code",
   "execution_count": 6,
   "metadata": {},
   "outputs": [
    {
     "name": "stdout",
     "output_type": "stream",
     "text": [
      "\n",
      " multinomial Accuracy 0.6033333333333334\n",
      "\n",
      "multinomialClassification Report\n",
      "              precision    recall  f1-score   support\n",
      "\n",
      "           1       0.05      0.50      0.08         2\n",
      "           2       0.00      0.00      0.00         1\n",
      "           3       0.11      0.21      0.14        14\n",
      "           4       0.18      0.09      0.12        55\n",
      "           5       0.81      0.75      0.78       228\n",
      "\n",
      "   micro avg       0.60      0.60      0.60       300\n",
      "   macro avg       0.23      0.31      0.23       300\n",
      "weighted avg       0.65      0.60      0.62       300\n",
      "\n",
      "\n",
      "multinomialClassification Report\n",
      "[[  1   0   1   0   0]\n",
      " [  0   0   0   0   1]\n",
      " [  2   3   3   3   3]\n",
      " [  6   1   7   5  36]\n",
      " [ 13   6  17  20 172]]\n",
      "\n",
      " ovr Accuracy 0.63\n",
      "\n",
      "ovrClassification Report\n",
      "              precision    recall  f1-score   support\n",
      "\n",
      "           1       0.05      0.50      0.09         2\n",
      "           2       0.00      0.00      0.00         1\n",
      "           3       0.17      0.29      0.22        14\n",
      "           4       0.17      0.07      0.10        55\n",
      "           5       0.80      0.79      0.80       228\n",
      "\n",
      "   micro avg       0.63      0.63      0.63       300\n",
      "   macro avg       0.24      0.33      0.24       300\n",
      "weighted avg       0.65      0.63      0.63       300\n",
      "\n",
      "\n",
      "ovrClassification Report\n",
      "[[  1   0   0   0   1]\n",
      " [  0   0   0   0   1]\n",
      " [  2   2   4   3   3]\n",
      " [  6   1   5   4  39]\n",
      " [ 12   5  14  17 180]]\n"
     ]
    }
   ],
   "source": [
    "# classifies data using both methods: one versus reast and multinomial\n",
    "for mclass in ('multinomial', 'ovr'):\n",
    "    lr = LogisticRegression(solver='lbfgs', max_iter=200, random_state=0, multi_class=mclass).fit(X, y)\n",
    "    yhat = lr.predict(Xtest)\n",
    "     \n",
    "    # the 3 lines below show how to invoke various output    \n",
    "    print(\"\\n\",mclass,\"Accuracy\",accuracy_score(ytest, yhat))\n",
    "    print(\"\\n\",mclass,\"Classification Report\\n\",classification_report(ytest, yhat),sep=\"\")\n",
    "    print(\"\\n\",mclass,\"Classification Report\\n\",confusion_matrix(ytest, yhat),sep=\"\")"
   ]
  },
  {
   "cell_type": "code",
   "execution_count": 7,
   "metadata": {},
   "outputs": [
    {
     "name": "stdout",
     "output_type": "stream",
     "text": [
      "The review: Have had Alexa for over a week and we make a great pair. I live alone and now don't feel alone. She gives me the weather reminds me of what I have to do, groceries, great music and very hokey jokes. Best investment I've made in years. Re-named her Echo cause I forget the name Alexa, wish we could pick our own name?? Set up the Crash from Dory alarm the next day. It went off LOUD hearing a mans voice in the house startled and and the dogs freaked too...it was funny afterwards.\n",
      "\n",
      "Segmented sentences: ['Have had Alexa for over a week and we make a great pair.', \"I live alone and now don't feel alone.\", 'She gives me the weather reminds me of what I have to do, groceries, great music and very hokey jokes.', \"Best investment I've made in years.\", 'Re-named her Echo cause I forget the name Alexa, wish we could pick our own name??', 'Set up the Crash from Dory alarm the next day.', 'It went off LOUD hearing a mans voice in the house startled and and the dogs freaked too...it was funny afterwards.']\n",
      "\n",
      "First sentence (word) tokenized: ['Have', 'had', 'Alexa', 'for', 'over', 'a', 'week', 'and', 'we', 'make', 'a', 'great', 'pair', '.']\n"
     ]
    },
    {
     "ename": "LookupError",
     "evalue": "\n**********************************************************************\n  Resource \u001b[93maveraged_perceptron_tagger\u001b[0m not found.\n  Please use the NLTK Downloader to obtain the resource:\n\n  \u001b[31m>>> import nltk\n  >>> nltk.download('averaged_perceptron_tagger')\n  \u001b[0m\n  Attempted to load \u001b[93mtaggers/averaged_perceptron_tagger/averaged_perceptron_tagger.pickle\u001b[0m\n\n  Searched in:\n    - '/home/loki/nltk_data'\n    - '/home/loki/anaconda3/nltk_data'\n    - '/home/loki/anaconda3/share/nltk_data'\n    - '/home/loki/anaconda3/lib/nltk_data'\n    - '/usr/share/nltk_data'\n    - '/usr/local/share/nltk_data'\n    - '/usr/lib/nltk_data'\n    - '/usr/local/lib/nltk_data'\n**********************************************************************\n",
     "output_type": "error",
     "traceback": [
      "\u001b[0;31m---------------------------------------------------------------------------\u001b[0m",
      "\u001b[0;31mLookupError\u001b[0m                               Traceback (most recent call last)",
      "\u001b[0;32m<ipython-input-7-23c0e3100bf5>\u001b[0m in \u001b[0;36m<module>\u001b[0;34m\u001b[0m\n\u001b[1;32m     14\u001b[0m \u001b[0;34m\u001b[0m\u001b[0m\n\u001b[1;32m     15\u001b[0m \u001b[0;31m# part-of-speech tagging the tokenized first sentence:\u001b[0m\u001b[0;34m\u001b[0m\u001b[0;34m\u001b[0m\u001b[0;34m\u001b[0m\u001b[0m\n\u001b[0;32m---> 16\u001b[0;31m \u001b[0mprint\u001b[0m\u001b[0;34m(\u001b[0m\u001b[0;34m\"\\nFirst sentence pos-tagged:\"\u001b[0m\u001b[0;34m,\u001b[0m\u001b[0mpos_tag\u001b[0m\u001b[0;34m(\u001b[0m\u001b[0mfirst_toks\u001b[0m\u001b[0;34m)\u001b[0m\u001b[0;34m)\u001b[0m\u001b[0;34m\u001b[0m\u001b[0;34m\u001b[0m\u001b[0m\n\u001b[0m\u001b[1;32m     17\u001b[0m \u001b[0;34m\u001b[0m\u001b[0m\n",
      "\u001b[0;32m~/anaconda3/lib/python3.7/site-packages/nltk/tag/__init__.py\u001b[0m in \u001b[0;36mpos_tag\u001b[0;34m(tokens, tagset, lang)\u001b[0m\n\u001b[1;32m    159\u001b[0m     \u001b[0;34m:\u001b[0m\u001b[0mrtype\u001b[0m\u001b[0;34m:\u001b[0m \u001b[0mlist\u001b[0m\u001b[0;34m(\u001b[0m\u001b[0mtuple\u001b[0m\u001b[0;34m(\u001b[0m\u001b[0mstr\u001b[0m\u001b[0;34m,\u001b[0m \u001b[0mstr\u001b[0m\u001b[0;34m)\u001b[0m\u001b[0;34m)\u001b[0m\u001b[0;34m\u001b[0m\u001b[0;34m\u001b[0m\u001b[0m\n\u001b[1;32m    160\u001b[0m     \"\"\"\n\u001b[0;32m--> 161\u001b[0;31m     \u001b[0mtagger\u001b[0m \u001b[0;34m=\u001b[0m \u001b[0m_get_tagger\u001b[0m\u001b[0;34m(\u001b[0m\u001b[0mlang\u001b[0m\u001b[0;34m)\u001b[0m\u001b[0;34m\u001b[0m\u001b[0;34m\u001b[0m\u001b[0m\n\u001b[0m\u001b[1;32m    162\u001b[0m     \u001b[0;32mreturn\u001b[0m \u001b[0m_pos_tag\u001b[0m\u001b[0;34m(\u001b[0m\u001b[0mtokens\u001b[0m\u001b[0;34m,\u001b[0m \u001b[0mtagset\u001b[0m\u001b[0;34m,\u001b[0m \u001b[0mtagger\u001b[0m\u001b[0;34m,\u001b[0m \u001b[0mlang\u001b[0m\u001b[0;34m)\u001b[0m\u001b[0;34m\u001b[0m\u001b[0;34m\u001b[0m\u001b[0m\n\u001b[1;32m    163\u001b[0m \u001b[0;34m\u001b[0m\u001b[0m\n",
      "\u001b[0;32m~/anaconda3/lib/python3.7/site-packages/nltk/tag/__init__.py\u001b[0m in \u001b[0;36m_get_tagger\u001b[0;34m(lang)\u001b[0m\n\u001b[1;32m    105\u001b[0m         \u001b[0mtagger\u001b[0m\u001b[0;34m.\u001b[0m\u001b[0mload\u001b[0m\u001b[0;34m(\u001b[0m\u001b[0map_russian_model_loc\u001b[0m\u001b[0;34m)\u001b[0m\u001b[0;34m\u001b[0m\u001b[0;34m\u001b[0m\u001b[0m\n\u001b[1;32m    106\u001b[0m     \u001b[0;32melse\u001b[0m\u001b[0;34m:\u001b[0m\u001b[0;34m\u001b[0m\u001b[0;34m\u001b[0m\u001b[0m\n\u001b[0;32m--> 107\u001b[0;31m         \u001b[0mtagger\u001b[0m \u001b[0;34m=\u001b[0m \u001b[0mPerceptronTagger\u001b[0m\u001b[0;34m(\u001b[0m\u001b[0;34m)\u001b[0m\u001b[0;34m\u001b[0m\u001b[0;34m\u001b[0m\u001b[0m\n\u001b[0m\u001b[1;32m    108\u001b[0m     \u001b[0;32mreturn\u001b[0m \u001b[0mtagger\u001b[0m\u001b[0;34m\u001b[0m\u001b[0;34m\u001b[0m\u001b[0m\n\u001b[1;32m    109\u001b[0m \u001b[0;34m\u001b[0m\u001b[0m\n",
      "\u001b[0;32m~/anaconda3/lib/python3.7/site-packages/nltk/tag/perceptron.py\u001b[0m in \u001b[0;36m__init__\u001b[0;34m(self, load)\u001b[0m\n\u001b[1;32m    142\u001b[0m         \u001b[0;32mif\u001b[0m \u001b[0mload\u001b[0m\u001b[0;34m:\u001b[0m\u001b[0;34m\u001b[0m\u001b[0;34m\u001b[0m\u001b[0m\n\u001b[1;32m    143\u001b[0m             AP_MODEL_LOC = 'file:' + str(\n\u001b[0;32m--> 144\u001b[0;31m                 \u001b[0mfind\u001b[0m\u001b[0;34m(\u001b[0m\u001b[0;34m'taggers/averaged_perceptron_tagger/'\u001b[0m \u001b[0;34m+\u001b[0m \u001b[0mPICKLE\u001b[0m\u001b[0;34m)\u001b[0m\u001b[0;34m\u001b[0m\u001b[0;34m\u001b[0m\u001b[0m\n\u001b[0m\u001b[1;32m    145\u001b[0m             )\n\u001b[1;32m    146\u001b[0m             \u001b[0mself\u001b[0m\u001b[0;34m.\u001b[0m\u001b[0mload\u001b[0m\u001b[0;34m(\u001b[0m\u001b[0mAP_MODEL_LOC\u001b[0m\u001b[0;34m)\u001b[0m\u001b[0;34m\u001b[0m\u001b[0;34m\u001b[0m\u001b[0m\n",
      "\u001b[0;32m~/anaconda3/lib/python3.7/site-packages/nltk/data.py\u001b[0m in \u001b[0;36mfind\u001b[0;34m(resource_name, paths)\u001b[0m\n\u001b[1;32m    697\u001b[0m     \u001b[0msep\u001b[0m \u001b[0;34m=\u001b[0m \u001b[0;34m'*'\u001b[0m \u001b[0;34m*\u001b[0m \u001b[0;36m70\u001b[0m\u001b[0;34m\u001b[0m\u001b[0;34m\u001b[0m\u001b[0m\n\u001b[1;32m    698\u001b[0m     \u001b[0mresource_not_found\u001b[0m \u001b[0;34m=\u001b[0m \u001b[0;34m'\\n%s\\n%s\\n%s\\n'\u001b[0m \u001b[0;34m%\u001b[0m \u001b[0;34m(\u001b[0m\u001b[0msep\u001b[0m\u001b[0;34m,\u001b[0m \u001b[0mmsg\u001b[0m\u001b[0;34m,\u001b[0m \u001b[0msep\u001b[0m\u001b[0;34m)\u001b[0m\u001b[0;34m\u001b[0m\u001b[0;34m\u001b[0m\u001b[0m\n\u001b[0;32m--> 699\u001b[0;31m     \u001b[0;32mraise\u001b[0m \u001b[0mLookupError\u001b[0m\u001b[0;34m(\u001b[0m\u001b[0mresource_not_found\u001b[0m\u001b[0;34m)\u001b[0m\u001b[0;34m\u001b[0m\u001b[0;34m\u001b[0m\u001b[0m\n\u001b[0m\u001b[1;32m    700\u001b[0m \u001b[0;34m\u001b[0m\u001b[0m\n\u001b[1;32m    701\u001b[0m \u001b[0;34m\u001b[0m\u001b[0m\n",
      "\u001b[0;31mLookupError\u001b[0m: \n**********************************************************************\n  Resource \u001b[93maveraged_perceptron_tagger\u001b[0m not found.\n  Please use the NLTK Downloader to obtain the resource:\n\n  \u001b[31m>>> import nltk\n  >>> nltk.download('averaged_perceptron_tagger')\n  \u001b[0m\n  Attempted to load \u001b[93mtaggers/averaged_perceptron_tagger/averaged_perceptron_tagger.pickle\u001b[0m\n\n  Searched in:\n    - '/home/loki/nltk_data'\n    - '/home/loki/anaconda3/nltk_data'\n    - '/home/loki/anaconda3/share/nltk_data'\n    - '/home/loki/anaconda3/lib/nltk_data'\n    - '/usr/share/nltk_data'\n    - '/usr/local/share/nltk_data'\n    - '/usr/lib/nltk_data'\n    - '/usr/local/lib/nltk_data'\n**********************************************************************\n"
     ]
    }
   ],
   "source": [
    "# other functions you might find helpful\n",
    "\n",
    "# a multi-sentence review (string)\n",
    "areview = \"Have had Alexa for over a week and we make a great pair. I live alone and now don't feel alone. She gives me the weather reminds me of what I have to do, groceries, great music and very hokey jokes. Best investment I've made in years. Re-named her Echo cause I forget the name Alexa, wish we could pick our own name?? Set up the Crash from Dory alarm the next day. It went off LOUD hearing a mans voice in the house startled and and the dogs freaked too...it was funny afterwards.\"\n",
    "print(\"The review:\",areview)\n",
    "\n",
    "# the review string segmented into sentences\n",
    "sntlst = sent_tokenize(areview)\n",
    "print(\"\\nSegmented sentences:\",sntlst)\n",
    "\n",
    "# (word) tokenizing the first sentence\n",
    "first_toks = word_tokenize(sntlst[0])\n",
    "print(\"\\nFirst sentence (word) tokenized:\",first_toks)\n",
    "\n",
    "# part-of-speech tagging the tokenized first sentence:\n",
    "print(\"\\nFirst sentence pos-tagged:\",pos_tag(first_toks))\n",
    "\n"
   ]
  },
  {
   "cell_type": "code",
   "execution_count": null,
   "metadata": {},
   "outputs": [],
   "source": []
  },
  {
   "cell_type": "code",
   "execution_count": null,
   "metadata": {},
   "outputs": [],
   "source": []
  },
  {
   "cell_type": "code",
   "execution_count": null,
   "metadata": {},
   "outputs": [],
   "source": []
  }
 ],
 "metadata": {
  "kernelspec": {
   "display_name": "Python 3",
   "language": "python",
   "name": "python3"
  },
  "language_info": {
   "codemirror_mode": {
    "name": "ipython",
    "version": 3
   },
   "file_extension": ".py",
   "mimetype": "text/x-python",
   "name": "python",
   "nbconvert_exporter": "python",
   "pygments_lexer": "ipython3",
   "version": "3.7.3"
  }
 },
 "nbformat": 4,
 "nbformat_minor": 4
}
