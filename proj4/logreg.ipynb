{
 "cells": [
  {
   "cell_type": "code",
   "execution_count": 8,
   "metadata": {},
   "outputs": [],
   "source": [
    "#import math\n",
    "import numpy as np\n",
    "import random\n",
    "from sklearn.linear_model import LogisticRegression\n",
    "from sklearn.metrics import confusion_matrix\n",
    "from sklearn.metrics import accuracy_score\n",
    "from sklearn.metrics import classification_report\n",
    "\n",
    "from nltk.tokenize import sent_tokenize\n",
    "from nltk.tokenize import word_tokenize\n",
    "from nltk import pos_tag\n",
    "\n",
    "np.set_printoptions(linewidth=400)   # optional: widens column of numpy array display"
   ]
  },
  {
   "cell_type": "code",
   "execution_count": 42,
   "metadata": {},
   "outputs": [],
   "source": [
    "# HOW-TO only: uses numbers (i.e. feature values), to demonstrate a way (not the only way) to load X, y, Xtest, and ytest\n",
    "# You will not do this (load number from a file).  You'll get your X, y, Xtest, and ytest values by extracting features from the review\n",
    "X = []\n",
    "y = []\n",
    "with open(\"demo-train.txt\", 'r', encoding='utf8') as f:\n",
    "    for line in f:\n",
    "        if line != \"\":\n",
    "            vals = line.split()\n",
    "            X.append([float(val) for val in vals[:-1]])\n",
    "            y.append(int(vals[-1]))\n",
    "            #print(X)\n",
    "        \n",
    "Xtest = []\n",
    "ytest = []\n",
    "with open(\"demo-test.txt\", 'r', encoding='utf8') as f:\n",
    "    Xtest = []\n",
    "    ytest = []\n",
    "    for line in f:\n",
    "        if line != \"\":\n",
    "            vals = line.split()\n",
    "            Xtest.append([float(val) for val in vals[:-1]])\n",
    "            ytest.append(int(vals[-1]))\n",
    "        \n"
   ]
  },
  {
   "cell_type": "code",
   "execution_count": null,
   "metadata": {},
   "outputs": [],
   "source": []
  },
  {
   "cell_type": "code",
   "execution_count": 44,
   "metadata": {},
   "outputs": [],
   "source": [
    "        \n",
    "X = np.array(X)          # the 4 lines are optional - It runs fine with Python lists.  For large dataset numpy arrays are better\n",
    "y = np.array(y)\n",
    "Xtest = np.array(Xtest)\n",
    "ytest = np.array(ytest)"
   ]
  },
  {
   "cell_type": "code",
   "execution_count": 48,
   "metadata": {},
   "outputs": [
    {
     "data": {
      "text/plain": [
       "(1276, 5)"
      ]
     },
     "execution_count": 48,
     "metadata": {},
     "output_type": "execute_result"
    }
   ],
   "source": [
    "X.shape"
   ]
  },
  {
   "cell_type": "code",
   "execution_count": 46,
   "metadata": {},
   "outputs": [
    {
     "name": "stdout",
     "output_type": "stream",
     "text": [
      "\n",
      " multinomial Accuracy 0.6033333333333334\n",
      "\n",
      "multinomialClassification Report\n",
      "              precision    recall  f1-score   support\n",
      "\n",
      "           1       0.05      0.50      0.08         2\n",
      "           2       0.00      0.00      0.00         1\n",
      "           3       0.11      0.21      0.14        14\n",
      "           4       0.18      0.09      0.12        55\n",
      "           5       0.81      0.75      0.78       228\n",
      "\n",
      "    accuracy                           0.60       300\n",
      "   macro avg       0.23      0.31      0.23       300\n",
      "weighted avg       0.65      0.60      0.62       300\n",
      "\n",
      "\n",
      "multinomialClassification Report\n",
      "[[  1   0   1   0   0]\n",
      " [  0   0   0   0   1]\n",
      " [  2   3   3   3   3]\n",
      " [  6   1   7   5  36]\n",
      " [ 13   6  17  20 172]]\n",
      "\n",
      " ovr Accuracy 0.63\n",
      "\n",
      "ovrClassification Report\n",
      "              precision    recall  f1-score   support\n",
      "\n",
      "           1       0.05      0.50      0.09         2\n",
      "           2       0.00      0.00      0.00         1\n",
      "           3       0.17      0.29      0.22        14\n",
      "           4       0.17      0.07      0.10        55\n",
      "           5       0.80      0.79      0.80       228\n",
      "\n",
      "    accuracy                           0.63       300\n",
      "   macro avg       0.24      0.33      0.24       300\n",
      "weighted avg       0.65      0.63      0.63       300\n",
      "\n",
      "\n",
      "ovrClassification Report\n",
      "[[  1   0   0   0   1]\n",
      " [  0   0   0   0   1]\n",
      " [  2   2   4   3   3]\n",
      " [  6   1   5   4  39]\n",
      " [ 12   5  14  17 180]]\n"
     ]
    }
   ],
   "source": [
    "# classifies data using both methods: one versus reast and multinomial\n",
    "for mclass in ('multinomial', 'ovr'):\n",
    "    lr = LogisticRegression(solver='lbfgs', max_iter=200, random_state=0, multi_class=mclass).fit(X, y)\n",
    "    yhat = lr.predict(Xtest)\n",
    "     \n",
    "    # the 3 lines below show how to invoke various output    \n",
    "    print(\"\\n\",mclass,\"Accuracy\",accuracy_score(ytest, yhat))\n",
    "    print(\"\\n\",mclass,\"Classification Report\\n\",classification_report(ytest, yhat),sep=\"\")\n",
    "    print(\"\\n\",mclass,\"Classification Report\\n\",confusion_matrix(ytest, yhat),sep=\"\")"
   ]
  },
  {
   "cell_type": "code",
   "execution_count": 47,
   "metadata": {},
   "outputs": [
    {
     "name": "stdout",
     "output_type": "stream",
     "text": [
      "The review: Have had Alexa for over a week and we make a great pair. I live alone and now don't feel alone. She gives me the weather reminds me of what I have to do, groceries, great music and very hokey jokes. Best investment I've made in years. Re-named her Echo cause I forget the name Alexa, wish we could pick our own name?? Set up the Crash from Dory alarm the next day. It went off LOUD hearing a mans voice in the house startled and and the dogs freaked too...it was funny afterwards.\n",
      "\n",
      "Segmented sentences: ['Have had Alexa for over a week and we make a great pair.', \"I live alone and now don't feel alone.\", 'She gives me the weather reminds me of what I have to do, groceries, great music and very hokey jokes.', \"Best investment I've made in years.\", 'Re-named her Echo cause I forget the name Alexa, wish we could pick our own name??', 'Set up the Crash from Dory alarm the next day.', 'It went off LOUD hearing a mans voice in the house startled and and the dogs freaked too...it was funny afterwards.']\n",
      "\n",
      "First sentence (word) tokenized: ['Have', 'had', 'Alexa', 'for', 'over', 'a', 'week', 'and', 'we', 'make', 'a', 'great', 'pair', '.']\n",
      "\n",
      "First sentence pos-tagged: [('Have', 'NNP'), ('had', 'VBD'), ('Alexa', 'NNP'), ('for', 'IN'), ('over', 'IN'), ('a', 'DT'), ('week', 'NN'), ('and', 'CC'), ('we', 'PRP'), ('make', 'VBP'), ('a', 'DT'), ('great', 'JJ'), ('pair', 'NN'), ('.', '.')]\n"
     ]
    }
   ],
   "source": [
    "# other functions you might find helpful\n",
    "\n",
    "# a multi-sentence review (string)\n",
    "areview = \"Have had Alexa for over a week and we make a great pair. I live alone and now don't feel alone. She gives me the weather reminds me of what I have to do, groceries, great music and very hokey jokes. Best investment I've made in years. Re-named her Echo cause I forget the name Alexa, wish we could pick our own name?? Set up the Crash from Dory alarm the next day. It went off LOUD hearing a mans voice in the house startled and and the dogs freaked too...it was funny afterwards.\"\n",
    "print(\"The review:\",areview)\n",
    "\n",
    "# the review string segmented into sentences\n",
    "sntlst = sent_tokenize(areview)\n",
    "print(\"\\nSegmented sentences:\",sntlst)\n",
    "\n",
    "# (word) tokenizing the first sentence\n",
    "first_toks = word_tokenize(sntlst[0])\n",
    "print(\"\\nFirst sentence (word) tokenized:\",first_toks)\n",
    "\n",
    "# part-of-speech tagging the tokenized first sentence:\n",
    "print(\"\\nFirst sentence pos-tagged:\",pos_tag(first_toks))\n",
    "\n"
   ]
  },
  {
   "cell_type": "code",
   "execution_count": null,
   "metadata": {},
   "outputs": [],
   "source": []
  },
  {
   "cell_type": "code",
   "execution_count": null,
   "metadata": {},
   "outputs": [],
   "source": []
  },
  {
   "cell_type": "code",
   "execution_count": null,
   "metadata": {},
   "outputs": [],
   "source": []
  }
 ],
 "metadata": {
  "kernelspec": {
   "display_name": "Python 3",
   "language": "python",
   "name": "python3"
  },
  "language_info": {
   "codemirror_mode": {
    "name": "ipython",
    "version": 3
   },
   "file_extension": ".py",
   "mimetype": "text/x-python",
   "name": "python",
   "nbconvert_exporter": "python",
   "pygments_lexer": "ipython3",
   "version": "3.7.3"
  }
 },
 "nbformat": 4,
 "nbformat_minor": 4
}
