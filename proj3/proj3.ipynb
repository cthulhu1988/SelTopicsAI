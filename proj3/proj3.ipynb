{
 "cells": [
  {
   "cell_type": "code",
   "execution_count": 5,
   "metadata": {},
   "outputs": [],
   "source": [
    "# Isaac G Callison\n",
    "# 6350-001\n",
    "# Project 3\n",
    "# Due 2/11/2020"
   ]
  },
  {
   "cell_type": "code",
   "execution_count": null,
   "metadata": {},
   "outputs": [],
   "source": []
  },
  {
   "cell_type": "code",
   "execution_count": 6,
   "metadata": {},
   "outputs": [],
   "source": [
    "# imports\n",
    "import random\n",
    "from nltk.corpus import stopwords\n",
    "from nltk.classify import NaiveBayesClassifier\n",
    "from nltk import classify\n",
    "from nltk.metrics import *\n",
    "import collections\n",
    "\n",
    "#set(stopwords.words('and'))"
   ]
  },
  {
   "cell_type": "code",
   "execution_count": null,
   "metadata": {},
   "outputs": [],
   "source": []
  },
  {
   "cell_type": "code",
   "execution_count": 7,
   "metadata": {},
   "outputs": [],
   "source": [
    "# pull in Sotu from file \n",
    "sotu_file = 'sotu.txt'\n",
    "pres_by_party = 'presidentsbyparty.txt'\n",
    "\n",
    "repub_list = [] ; dem_list = []\n",
    "\n",
    "with open(pres_by_party) as prez:\n",
    "    cl = prez.readline()\n",
    "    cl = cl.strip()\n",
    "    if (cl == 'Republican'):\n",
    "        while cl != 'Democrat':\n",
    "            cl = prez.readline()\n",
    "            cl = cl.strip()\n",
    "            if len(cl) > 1:\n",
    "                repub_list.append(cl)\n",
    "    repub_list = repub_list[:-1]\n",
    "    for line in prez:\n",
    "        if len(line) > 1:\n",
    "            line = line.strip()\n",
    "            dem_list.append(line)\n",
    "     \n",
    "#sotu = open(sotu_file,'r')\n",
    "# shift + tab shows documenation. \n"
   ]
  },
  {
   "cell_type": "code",
   "execution_count": null,
   "metadata": {},
   "outputs": [],
   "source": [
    "testFile = open(\"test.txt\",\"w+\")\n",
    "\n",
    "with open(sotu_file) as sf:\n",
    "    line = sf.readline()\n",
    "    while line:\n",
    "        line = line.strip()\n",
    "        if '@' in line:\n",
    "            line = line.split('@',4)\n",
    "            line = line[1]\n",
    "            if line in repub_list:\n",
    "                text = sf.readline()\n",
    "                text = text.strip()\n",
    "                while '@' not in text:\n",
    "                    #print(text)\n",
    "                    testFile.write(text)\n",
    "                    text = sf.readline()\n",
    "            \n",
    "        line = sf.readline()\n",
    "        \n",
    "testFile.close()\n"
   ]
  },
  {
   "cell_type": "code",
   "execution_count": null,
   "metadata": {},
   "outputs": [],
   "source": [
    "# Clean Sotu, truncate to republican and dem and normalize data "
   ]
  },
  {
   "cell_type": "code",
   "execution_count": 66,
   "metadata": {},
   "outputs": [],
   "source": [
    "# write out to file, should have just repubs and demrats\n"
   ]
  },
  {
   "cell_type": "code",
   "execution_count": 23,
   "metadata": {},
   "outputs": [],
   "source": [
    "# Implement features - how to differentiate from each other? "
   ]
  },
  {
   "cell_type": "code",
   "execution_count": 24,
   "metadata": {},
   "outputs": [],
   "source": [
    "# USE stopwords??\n",
    "#stop_words = set(stopwords.words('and'))"
   ]
  },
  {
   "cell_type": "code",
   "execution_count": 25,
   "metadata": {},
   "outputs": [],
   "source": [
    "# Run classifier"
   ]
  },
  {
   "cell_type": "code",
   "execution_count": null,
   "metadata": {},
   "outputs": [],
   "source": []
  },
  {
   "cell_type": "code",
   "execution_count": null,
   "metadata": {},
   "outputs": [],
   "source": []
  },
  {
   "cell_type": "code",
   "execution_count": null,
   "metadata": {},
   "outputs": [],
   "source": []
  }
 ],
 "metadata": {
  "kernelspec": {
   "display_name": "Python 3",
   "language": "python",
   "name": "python3"
  },
  "language_info": {
   "codemirror_mode": {
    "name": "ipython",
    "version": 3
   },
   "file_extension": ".py",
   "mimetype": "text/x-python",
   "name": "python",
   "nbconvert_exporter": "python",
   "pygments_lexer": "ipython3",
   "version": "3.7.3"
  }
 },
 "nbformat": 4,
 "nbformat_minor": 4
}
