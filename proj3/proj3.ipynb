{
 "cells": [
  {
   "cell_type": "code",
   "execution_count": 31,
   "metadata": {},
   "outputs": [],
   "source": [
    "# Isaac G Callison\n",
    "# 6350-001\n",
    "# Project 3\n",
    "# Due 2/11/2020"
   ]
  },
  {
   "cell_type": "code",
   "execution_count": null,
   "metadata": {},
   "outputs": [],
   "source": []
  },
  {
   "cell_type": "code",
   "execution_count": 48,
   "metadata": {},
   "outputs": [],
   "source": [
    "# imports\n",
    "import random\n",
    "from nltk.corpus import stopwords\n",
    "from nltk.classify import NaiveBayesClassifier\n",
    "from nltk import classify\n",
    "from nltk.metrics import *\n",
    "import collections\n",
    "\n",
    "#set(stopwords.words('and'))"
   ]
  },
  {
   "cell_type": "code",
   "execution_count": null,
   "metadata": {},
   "outputs": [],
   "source": []
  },
  {
   "cell_type": "code",
   "execution_count": 107,
   "metadata": {},
   "outputs": [],
   "source": [
    "# pull in Sotu from file \n",
    "sotu_file = 'sotu.txt'\n",
    "pres_by_party = 'presidentsbyparty.txt'\n",
    "\n",
    "repub_list = [] ; dem_list = []\n",
    "\n",
    "with open(pres_by_party) as prez:\n",
    "    cl = prez.readline()\n",
    "    cl = cl.strip()\n",
    "    if (cl == 'Republican'):\n",
    "        while cl != 'Democrat':\n",
    "            cl = prez.readline()\n",
    "            cl = cl.strip()\n",
    "            if len(cl) > 1:\n",
    "                repub_list.append(cl)\n",
    "    repub_list = repub_list[:-1]\n",
    "    for line in prez:\n",
    "        if len(line) > 1:\n",
    "            line = line.strip()\n",
    "            dem_list.append(line)\n",
    "     \n",
    "#sotu = open(sotu_file,'r')\n",
    "# shift + tab shows documenation. \n"
   ]
  },
  {
   "cell_type": "code",
   "execution_count": 196,
   "metadata": {},
   "outputs": [],
   "source": [
    "testFile = open(\"test.txt\",\"w+\")\n",
    "\n",
    "with open(sotu_file) as sf:\n",
    "    lines = sf.readlines()\n",
    "    glob = [x.replace('\\n',' ') for x in lines]\n",
    "    glob = [x.strip('*') for x in glob]\n",
    "    \n",
    "    for line in glob:\n",
    "        testFile.write(line)    \n",
    "testFile.close()\n"
   ]
  },
  {
   "cell_type": "code",
   "execution_count": 197,
   "metadata": {},
   "outputs": [],
   "source": [
    "r_file = open(\"rFile.txt\", 'w+')\n",
    "d_file = open(\"dFile.txt\", 'w+')\n",
    "with open(\"test.txt\") as tf:\n",
    "    new_list = []\n",
    "    lines = tf.readlines()\n",
    "    lines = str(lines)\n",
    "    lines = lines.split('@')\n",
    "    for r,item in enumerate(lines):\n",
    "        if item in repub_list:\n",
    "            r_file.write(lines[r])\n",
    "            r_file.write('\\n')\n",
    "            r_file.write(lines[r+2])\n",
    "            r_file.write('\\n')\n",
    "        elif item in dem_list:\n",
    "            d_file.write(lines[r])\n",
    "            d_file.write('\\n')\n",
    "            d_file.write(lines[r+2])\n",
    "            d_file.write('\\n')\n",
    "\n",
    "\n",
    "# Clean Sotu, truncate to republican and dem and normalize data\n",
    "r_file.close()\n",
    "d_file.close()"
   ]
  },
  {
   "cell_type": "code",
   "execution_count": 198,
   "metadata": {},
   "outputs": [],
   "source": [
    "pass "
   ]
  },
  {
   "cell_type": "code",
   "execution_count": 204,
   "metadata": {},
   "outputs": [
    {
     "name": "stdout",
     "output_type": "stream",
     "text": [
      "33405\n"
     ]
    }
   ],
   "source": [
    "r_set = set()\n",
    "with open(\"rFile.txt\") as rf:\n",
    "    r_lines = rf.readlines()\n",
    "    for word in r_lines:\n",
    "        word = word.split()\n",
    "        for item in word:\n",
    "            r_set.add(item)\n",
    "    print(len(r_set))\n",
    "        \n",
    "# Implement features - how to differentiate from each other? "
   ]
  },
  {
   "cell_type": "code",
   "execution_count": null,
   "metadata": {},
   "outputs": [],
   "source": []
  },
  {
   "cell_type": "code",
   "execution_count": 205,
   "metadata": {},
   "outputs": [
    {
     "name": "stdout",
     "output_type": "stream",
     "text": [
      "29367\n"
     ]
    }
   ],
   "source": [
    "d_set = set()\n",
    "with open(\"dFile.txt\") as df:\n",
    "    d_lines = df.readlines()\n",
    "    for word in d_lines:\n",
    "        word = word.split()\n",
    "        for item in word:\n",
    "            d_set.add(item)\n",
    "    print(len(d_set))\n",
    "        \n",
    "# Implement features - how to differentiate from each other? "
   ]
  },
  {
   "cell_type": "code",
   "execution_count": 201,
   "metadata": {},
   "outputs": [],
   "source": [
    "# USE stopwords??\n",
    "#stop_words = set(stopwords.words('and'))"
   ]
  },
  {
   "cell_type": "code",
   "execution_count": 25,
   "metadata": {},
   "outputs": [],
   "source": [
    "# Run classifier"
   ]
  },
  {
   "cell_type": "code",
   "execution_count": null,
   "metadata": {},
   "outputs": [],
   "source": []
  },
  {
   "cell_type": "code",
   "execution_count": null,
   "metadata": {},
   "outputs": [],
   "source": []
  },
  {
   "cell_type": "code",
   "execution_count": null,
   "metadata": {},
   "outputs": [],
   "source": []
  }
 ],
 "metadata": {
  "kernelspec": {
   "display_name": "Python 3",
   "language": "python",
   "name": "python3"
  },
  "language_info": {
   "codemirror_mode": {
    "name": "ipython",
    "version": 3
   },
   "file_extension": ".py",
   "mimetype": "text/x-python",
   "name": "python",
   "nbconvert_exporter": "python",
   "pygments_lexer": "ipython3",
   "version": "3.7.3"
  }
 },
 "nbformat": 4,
 "nbformat_minor": 4
}
