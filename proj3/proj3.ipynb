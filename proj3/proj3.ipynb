{
 "cells": [
  {
   "cell_type": "code",
   "execution_count": null,
   "metadata": {},
   "outputs": [],
   "source": [
    "# Isaac G Callison\n",
    "# 6350-001\n",
    "# Project 3\n",
    "# Due 2/11/2020"
   ]
  },
  {
   "cell_type": "code",
   "execution_count": null,
   "metadata": {},
   "outputs": [],
   "source": [
    "# imports\n",
    "import random\n",
    "from nltk.corpus import stopwords\n",
    "from nltk.classify import NaiveBayesClassifier\n",
    "from nltk import classify\n",
    "from nltk.metrics import *\n",
    "import collections\n",
    "import heapq\n"
   ]
  },
  {
   "cell_type": "code",
   "execution_count": null,
   "metadata": {},
   "outputs": [],
   "source": [
    "# pull in Sotu from file \n",
    "sotu_file = 'sotu.txt'\n",
    "pres_by_party = 'presidentsbyparty.txt'\n",
    "\n",
    "repub_list = [] ; dem_list = []\n",
    "\n",
    "with open(pres_by_party) as prez:\n",
    "    cl = prez.readline()\n",
    "    cl = cl.strip()\n",
    "    if (cl == 'Republican'):\n",
    "        while cl != 'Democrat':\n",
    "            cl = prez.readline()\n",
    "            cl = cl.strip()\n",
    "            if len(cl) > 1:\n",
    "                cl = cl.lower()\n",
    "                repub_list.append(cl)\n",
    "    repub_list = repub_list[:-1]\n",
    "    for line in prez:\n",
    "        if len(line) > 1:\n",
    "            line = line.strip()\n",
    "            line = line.lower()\n",
    "            dem_list.append(line)\n",
    "# shift + tab shows documenation. \n"
   ]
  },
  {
   "cell_type": "code",
   "execution_count": null,
   "metadata": {},
   "outputs": [],
   "source": [
    "testFile = open(\"test.txt\",\"w+\")\n",
    "stop_words = set(stopwords.words('english'))\n",
    "with open(sotu_file) as sf:\n",
    "    lines = sf.readlines()\n",
    "    glob = [x.replace('\\'', ',') for x in lines]\n",
    "    glob = [x.lstrip('*') for x in glob]\n",
    "    \n",
    "    for line in glob:\n",
    "        testFile.write(line)    \n",
    "testFile.close()"
   ]
  },
  {
   "cell_type": "code",
   "execution_count": null,
   "metadata": {},
   "outputs": [],
   "source": [
    "print(repub_list)"
   ]
  },
  {
   "cell_type": "code",
   "execution_count": null,
   "metadata": {},
   "outputs": [],
   "source": [
    "r_file = open(\"rFile.txt\", 'w+')\n",
    "d_file = open(\"dFile.txt\", 'w+')\n",
    "f_file = open(\"f_file.txt\", 'w+')\n",
    "r_docs = []\n",
    "d_docs = []\n",
    "with open(\"test.txt\") as tf:\n",
    "    new_list = []\n",
    "    lines = tf.readlines()\n",
    "    lines = str(lines)\n",
    "    lines = lines.split('@')\n",
    "    #t = str(lines)\n",
    "    #f_file.write(t)\n",
    "    for r,item in enumerate(lines):\n",
    "        if len(item) < 45:\n",
    "            print(\"item: \",item)\n",
    "        item = item.lower()\n",
    "        if item in repub_list:\n",
    "            #print(lines[r])\n",
    "            r_file.write(lines[r])\n",
    "            r_file.write('\\n')\n",
    "            r_file.write(lines[r+2])\n",
    "            r_docs.append(lines[r+2])\n",
    "            r_file.write('\\n')\n",
    "        elif item in dem_list:\n",
    "            d_file.write(lines[r])\n",
    "            d_file.write('\\n')\n",
    "            d_file.write(lines[r+2])\n",
    "            d_docs.append(lines[r+2])\n",
    "            d_file.write('\\n')\n",
    "        else:\n",
    "            pass\n",
    "            #f_file.write(lines[r])\n",
    "# Clean Sotu, truncate to republican and dem and normalize data\n",
    "r_file.close()\n",
    "d_file.close()"
   ]
  },
  {
   "cell_type": "code",
   "execution_count": null,
   "metadata": {},
   "outputs": [],
   "source": [
    "r_set = set()\n",
    "r_dict = {}\n",
    "with open(\"rFile.txt\") as rf:\n",
    "    r_lines = rf.readlines()\n",
    "    for word in r_lines:\n",
    "        word = word.split()\n",
    "        for item in word:\n",
    "            if item not in stop_words:\n",
    "                item = item.lower()\n",
    "                r_dict[item] = r_dict.get(item,0)+1 \n",
    "                r_set.add(item)\n",
    "    print(len(r_set))\n",
    "    #print(r_dict)\n",
    "        \n",
    "r_freq = heapq.nlargest(100, r_dict, key=r_dict.get)\n",
    "#print(r_freq)"
   ]
  },
  {
   "cell_type": "code",
   "execution_count": null,
   "metadata": {},
   "outputs": [],
   "source": [
    "# Run classifier\n",
    "def wordCount(word):\n",
    "    return d_dict[word]"
   ]
  },
  {
   "cell_type": "code",
   "execution_count": null,
   "metadata": {},
   "outputs": [],
   "source": [
    "d_set = set()\n",
    "d_dict = {}\n",
    "with open(\"dFile.txt\") as df:\n",
    "    d_lines = df.readlines()\n",
    "    for word in d_lines:\n",
    "        word = word.split()\n",
    "        for item in word:\n",
    "            if item not in stop_words:\n",
    "                item = item.lower()\n",
    "                d_set.add(item)\n",
    "                d_dict[item] = d_dict.get(item,0)+1\n",
    "\n",
    "d_freq = heapq.nlargest(100, d_dict, key=d_dict.get)\n",
    "#print(d_freq)\n",
    "#print()\n",
    "#print(r_freq)"
   ]
  },
  {
   "cell_type": "code",
   "execution_count": null,
   "metadata": {},
   "outputs": [],
   "source": [
    "repub_list = []\n",
    "for k,v in r_dict.items():\n",
    "    repub_list.append(k)"
   ]
  },
  {
   "cell_type": "code",
   "execution_count": null,
   "metadata": {},
   "outputs": [],
   "source": [
    "dem_list = []\n",
    "for k,v in d_dict.items():\n",
    "    dem_list.append(k)\n",
    "    \n",
    "labeled_sotu = ([(word, 'democrat') for word in dem_list] + [(word, 'republican') for word in repub_list] )"
   ]
  },
  {
   "cell_type": "code",
   "execution_count": null,
   "metadata": {},
   "outputs": [],
   "source": [
    "random.shuffle(labeled_sotu)"
   ]
  },
  {
   "cell_type": "code",
   "execution_count": null,
   "metadata": {},
   "outputs": [],
   "source": [
    "# feature function - accepsta string(word) and returns a dictionary with key 'last_letter' and value the final character in the string\n",
    "def sotu_features(word):\n",
    "    bool = True\n",
    "    if word in d_freq and word not in r_freq:\n",
    "        w = \"DEM\"\n",
    "    else:\n",
    "        w=\"UNK\"\n",
    "    return {'freq': w }"
   ]
  },
  {
   "cell_type": "code",
   "execution_count": null,
   "metadata": {},
   "outputs": [],
   "source": [
    "# construct a list consisting of the gender feature dictionaries: last letter of and the gender of a name\n",
    "featuresets = [(sotu_features(n), party) for (n, party) in labeled_sotu]\n",
    "\n",
    "print(len(featuresets), \"data rows\")"
   ]
  },
  {
   "cell_type": "code",
   "execution_count": null,
   "metadata": {},
   "outputs": [],
   "source": [
    "train_len = int(len(featuresets) * .80)\n",
    "test_len = (len(featuresets) - train_len)"
   ]
  },
  {
   "cell_type": "code",
   "execution_count": null,
   "metadata": {},
   "outputs": [],
   "source": [
    "train_set, test_set = featuresets[train_len:], featuresets[:test_len]\n",
    "#print(train_set)"
   ]
  },
  {
   "cell_type": "code",
   "execution_count": null,
   "metadata": {},
   "outputs": [],
   "source": [
    "# using the training set to train the classifer\n",
    "\n",
    "classifier = NaiveBayesClassifier.train(train_set)"
   ]
  },
  {
   "cell_type": "code",
   "execution_count": null,
   "metadata": {},
   "outputs": [],
   "source": [
    "# run the entire test set, and print the classifier's accuracy\n",
    "\n",
    "print(classify.accuracy(classifier, test_set))"
   ]
  },
  {
   "cell_type": "code",
   "execution_count": null,
   "metadata": {},
   "outputs": [],
   "source": [
    "# show the features that provided the greatest distinction between male and female names\n",
    "classifier.show_most_informative_features(10)"
   ]
  },
  {
   "cell_type": "code",
   "execution_count": null,
   "metadata": {},
   "outputs": [],
   "source": []
  },
  {
   "cell_type": "code",
   "execution_count": null,
   "metadata": {},
   "outputs": [],
   "source": []
  },
  {
   "cell_type": "code",
   "execution_count": null,
   "metadata": {},
   "outputs": [],
   "source": []
  }
 ],
 "metadata": {
  "kernelspec": {
   "display_name": "Python 3",
   "language": "python",
   "name": "python3"
  },
  "language_info": {
   "codemirror_mode": {
    "name": "ipython",
    "version": 3
   },
   "file_extension": ".py",
   "mimetype": "text/x-python",
   "name": "python",
   "nbconvert_exporter": "python",
   "pygments_lexer": "ipython3",
   "version": "3.7.3"
  }
 },
 "nbformat": 4,
 "nbformat_minor": 4
}
